{
 "cells": [
  {
   "cell_type": "markdown",
   "id": "674c729e-4475-4745-9c31-19e561c962f1",
   "metadata": {},
   "source": [
    "# Install Yahoo Finance package"
   ]
  },
  {
   "cell_type": "code",
   "execution_count": 11,
   "id": "3099ae56-6a45-47d3-8064-6c77432ab1aa",
   "metadata": {},
   "outputs": [
    {
     "name": "stdout",
     "output_type": "stream",
     "text": [
      "Requirement already satisfied: yfinance in /opt/conda/lib/python3.10/site-packages (0.2.40)\n",
      "Requirement already satisfied: pandas>=1.3.0 in /opt/conda/lib/python3.10/site-packages (from yfinance) (2.1.4)\n",
      "Requirement already satisfied: numpy>=1.16.5 in /opt/conda/lib/python3.10/site-packages (from yfinance) (1.26.4)\n",
      "Requirement already satisfied: requests>=2.31 in /opt/conda/lib/python3.10/site-packages (from yfinance) (2.31.0)\n",
      "Requirement already satisfied: multitasking>=0.0.7 in /opt/conda/lib/python3.10/site-packages (from yfinance) (0.0.11)\n",
      "Requirement already satisfied: lxml>=4.9.1 in /opt/conda/lib/python3.10/site-packages (from yfinance) (4.9.4)\n",
      "Requirement already satisfied: platformdirs>=2.0.0 in /opt/conda/lib/python3.10/site-packages (from yfinance) (4.2.1)\n",
      "Requirement already satisfied: pytz>=2022.5 in /opt/conda/lib/python3.10/site-packages (from yfinance) (2023.3)\n",
      "Requirement already satisfied: frozendict>=2.3.4 in /opt/conda/lib/python3.10/site-packages (from yfinance) (2.4.4)\n",
      "Requirement already satisfied: peewee>=3.16.2 in /opt/conda/lib/python3.10/site-packages (from yfinance) (3.17.5)\n",
      "Requirement already satisfied: beautifulsoup4>=4.11.1 in /opt/conda/lib/python3.10/site-packages (from yfinance) (4.12.3)\n",
      "Requirement already satisfied: html5lib>=1.1 in /opt/conda/lib/python3.10/site-packages (from yfinance) (1.1)\n",
      "Requirement already satisfied: soupsieve>1.2 in /opt/conda/lib/python3.10/site-packages (from beautifulsoup4>=4.11.1->yfinance) (2.5)\n",
      "Requirement already satisfied: six>=1.9 in /opt/conda/lib/python3.10/site-packages (from html5lib>=1.1->yfinance) (1.16.0)\n",
      "Requirement already satisfied: webencodings in /opt/conda/lib/python3.10/site-packages (from html5lib>=1.1->yfinance) (0.5.1)\n",
      "Requirement already satisfied: python-dateutil>=2.8.2 in /opt/conda/lib/python3.10/site-packages (from pandas>=1.3.0->yfinance) (2.9.0)\n",
      "Requirement already satisfied: tzdata>=2022.1 in /opt/conda/lib/python3.10/site-packages (from pandas>=1.3.0->yfinance) (2024.1)\n",
      "Requirement already satisfied: charset-normalizer<4,>=2 in /opt/conda/lib/python3.10/site-packages (from requests>=2.31->yfinance) (3.3.2)\n",
      "Requirement already satisfied: idna<4,>=2.5 in /opt/conda/lib/python3.10/site-packages (from requests>=2.31->yfinance) (3.7)\n",
      "Requirement already satisfied: urllib3<3,>=1.21.1 in /opt/conda/lib/python3.10/site-packages (from requests>=2.31->yfinance) (1.26.18)\n",
      "Requirement already satisfied: certifi>=2017.4.17 in /opt/conda/lib/python3.10/site-packages (from requests>=2.31->yfinance) (2024.2.2)\n",
      "\u001b[33mWARNING: Error parsing requirements for fsspec: [Errno 2] No such file or directory: '/opt/conda/lib/python3.10/site-packages/fsspec-2023.6.0.dist-info/METADATA'\u001b[0m\u001b[33m\n",
      "\u001b[0m"
     ]
    }
   ],
   "source": [
    "!pip install yfinance"
   ]
  },
  {
   "cell_type": "markdown",
   "id": "98d6a03c-4b60-44be-af14-7125aeed4b21",
   "metadata": {},
   "source": [
    "# 1. S3 Bucket\n",
    "## 1.1 Create S3 Bucket"
   ]
  },
  {
   "cell_type": "markdown",
   "id": "0dd23a5d-add3-4a8d-9a8a-c29adb59cc9e",
   "metadata": {},
   "source": [
    "import boto3\n",
    "import uuid"
   ]
  },
  {
   "cell_type": "code",
   "execution_count": 14,
   "id": "e8f768df-ee23-4f6c-a84e-5d6bdb61f743",
   "metadata": {},
   "outputs": [
    {
     "name": "stdout",
     "output_type": "stream",
     "text": [
      "S3 bucket \"yahoofinancestockprice-us-east-1\" has been created\n"
     ]
    }
   ],
   "source": [
    "# Specify the region of s3 bucket\n",
    "# The region of s3 bucket has to the the same as the notebook instance\n",
    "region = 'us-east-1'\n",
    "\n",
    "# Create a unique bucket name using UUID\n",
    "bucket_name = 'yahoofinancestockprice-us-east-1'\n",
    "\n",
    "s3 = boto3.resource('s3', region_name=region)\n",
    "\n",
    "try:\n",
    "    if region == 'us-east-1':\n",
    "        s3.create_bucket(Bucket=bucket_name)\n",
    "    else:\n",
    "        s3.create_bucket(\n",
    "            Bucket=bucket_name,\n",
    "            CreateBucketConfiguration={'LocationConstraint': region}\n",
    "        )\n",
    "    print(f'S3 bucket \"{bucket_name}\" has been created')\n",
    "except Exception as e:\n",
    "    print('S3 error: ', e)\n"
   ]
  },
  {
   "cell_type": "markdown",
   "id": "d0b32bdf-274c-4a0e-b5ea-f66ba9d23235",
   "metadata": {},
   "source": [
    "# 2. Dateset\n",
    "## 2.1 Create train and validation csv"
   ]
  },
  {
   "cell_type": "code",
   "execution_count": 30,
   "id": "800899d3-ae3c-4eb0-8d67-101f14996c90",
   "metadata": {},
   "outputs": [
    {
     "name": "stderr",
     "output_type": "stream",
     "text": [
      "[*********************100%%**********************]  1 of 1 completed\n"
     ]
    },
    {
     "data": {
      "text/html": [
       "<div>\n",
       "<style scoped>\n",
       "    .dataframe tbody tr th:only-of-type {\n",
       "        vertical-align: middle;\n",
       "    }\n",
       "\n",
       "    .dataframe tbody tr th {\n",
       "        vertical-align: top;\n",
       "    }\n",
       "\n",
       "    .dataframe thead th {\n",
       "        text-align: right;\n",
       "    }\n",
       "</style>\n",
       "<table border=\"1\" class=\"dataframe\">\n",
       "  <thead>\n",
       "    <tr style=\"text-align: right;\">\n",
       "      <th></th>\n",
       "      <th>Date</th>\n",
       "      <th>Open</th>\n",
       "      <th>High</th>\n",
       "      <th>Low</th>\n",
       "      <th>Close</th>\n",
       "      <th>Adj Close</th>\n",
       "      <th>Volume</th>\n",
       "    </tr>\n",
       "  </thead>\n",
       "  <tbody>\n",
       "    <tr>\n",
       "      <th>0</th>\n",
       "      <td>2020-01-02</td>\n",
       "      <td>5.968750</td>\n",
       "      <td>5.997750</td>\n",
       "      <td>5.918000</td>\n",
       "      <td>5.997750</td>\n",
       "      <td>5.973633</td>\n",
       "      <td>237536000</td>\n",
       "    </tr>\n",
       "    <tr>\n",
       "      <th>1</th>\n",
       "      <td>2020-01-03</td>\n",
       "      <td>5.877500</td>\n",
       "      <td>5.945750</td>\n",
       "      <td>5.852500</td>\n",
       "      <td>5.901750</td>\n",
       "      <td>5.878019</td>\n",
       "      <td>205384000</td>\n",
       "    </tr>\n",
       "    <tr>\n",
       "      <th>2</th>\n",
       "      <td>2020-01-06</td>\n",
       "      <td>5.808000</td>\n",
       "      <td>5.931750</td>\n",
       "      <td>5.781750</td>\n",
       "      <td>5.926500</td>\n",
       "      <td>5.902670</td>\n",
       "      <td>262636000</td>\n",
       "    </tr>\n",
       "    <tr>\n",
       "      <th>3</th>\n",
       "      <td>2020-01-07</td>\n",
       "      <td>5.955000</td>\n",
       "      <td>6.044250</td>\n",
       "      <td>5.909750</td>\n",
       "      <td>5.998250</td>\n",
       "      <td>5.974132</td>\n",
       "      <td>314856000</td>\n",
       "    </tr>\n",
       "    <tr>\n",
       "      <th>4</th>\n",
       "      <td>2020-01-08</td>\n",
       "      <td>5.994000</td>\n",
       "      <td>6.051000</td>\n",
       "      <td>5.953750</td>\n",
       "      <td>6.009500</td>\n",
       "      <td>5.985336</td>\n",
       "      <td>277108000</td>\n",
       "    </tr>\n",
       "    <tr>\n",
       "      <th>...</th>\n",
       "      <td>...</td>\n",
       "      <td>...</td>\n",
       "      <td>...</td>\n",
       "      <td>...</td>\n",
       "      <td>...</td>\n",
       "      <td>...</td>\n",
       "      <td>...</td>\n",
       "    </tr>\n",
       "    <tr>\n",
       "      <th>1119</th>\n",
       "      <td>2024-06-13</td>\n",
       "      <td>129.389999</td>\n",
       "      <td>129.800003</td>\n",
       "      <td>127.160004</td>\n",
       "      <td>129.610001</td>\n",
       "      <td>129.610001</td>\n",
       "      <td>260704500</td>\n",
       "    </tr>\n",
       "    <tr>\n",
       "      <th>1120</th>\n",
       "      <td>2024-06-14</td>\n",
       "      <td>129.960007</td>\n",
       "      <td>132.839996</td>\n",
       "      <td>128.320007</td>\n",
       "      <td>131.880005</td>\n",
       "      <td>131.880005</td>\n",
       "      <td>309320400</td>\n",
       "    </tr>\n",
       "    <tr>\n",
       "      <th>1121</th>\n",
       "      <td>2024-06-17</td>\n",
       "      <td>132.990005</td>\n",
       "      <td>133.729996</td>\n",
       "      <td>129.580002</td>\n",
       "      <td>130.979996</td>\n",
       "      <td>130.979996</td>\n",
       "      <td>288504400</td>\n",
       "    </tr>\n",
       "    <tr>\n",
       "      <th>1122</th>\n",
       "      <td>2024-06-18</td>\n",
       "      <td>131.139999</td>\n",
       "      <td>136.330002</td>\n",
       "      <td>130.690002</td>\n",
       "      <td>135.580002</td>\n",
       "      <td>135.580002</td>\n",
       "      <td>294335100</td>\n",
       "    </tr>\n",
       "    <tr>\n",
       "      <th>1123</th>\n",
       "      <td>2024-06-20</td>\n",
       "      <td>139.850006</td>\n",
       "      <td>140.759995</td>\n",
       "      <td>129.529999</td>\n",
       "      <td>130.779999</td>\n",
       "      <td>130.779999</td>\n",
       "      <td>504887012</td>\n",
       "    </tr>\n",
       "  </tbody>\n",
       "</table>\n",
       "<p>1124 rows × 7 columns</p>\n",
       "</div>"
      ],
      "text/plain": [
       "           Date        Open        High         Low       Close   Adj Close  \\\n",
       "0    2020-01-02    5.968750    5.997750    5.918000    5.997750    5.973633   \n",
       "1    2020-01-03    5.877500    5.945750    5.852500    5.901750    5.878019   \n",
       "2    2020-01-06    5.808000    5.931750    5.781750    5.926500    5.902670   \n",
       "3    2020-01-07    5.955000    6.044250    5.909750    5.998250    5.974132   \n",
       "4    2020-01-08    5.994000    6.051000    5.953750    6.009500    5.985336   \n",
       "...         ...         ...         ...         ...         ...         ...   \n",
       "1119 2024-06-13  129.389999  129.800003  127.160004  129.610001  129.610001   \n",
       "1120 2024-06-14  129.960007  132.839996  128.320007  131.880005  131.880005   \n",
       "1121 2024-06-17  132.990005  133.729996  129.580002  130.979996  130.979996   \n",
       "1122 2024-06-18  131.139999  136.330002  130.690002  135.580002  135.580002   \n",
       "1123 2024-06-20  139.850006  140.759995  129.529999  130.779999  130.779999   \n",
       "\n",
       "         Volume  \n",
       "0     237536000  \n",
       "1     205384000  \n",
       "2     262636000  \n",
       "3     314856000  \n",
       "4     277108000  \n",
       "...         ...  \n",
       "1119  260704500  \n",
       "1120  309320400  \n",
       "1121  288504400  \n",
       "1122  294335100  \n",
       "1123  504887012  \n",
       "\n",
       "[1124 rows x 7 columns]"
      ]
     },
     "execution_count": 30,
     "metadata": {},
     "output_type": "execute_result"
    }
   ],
   "source": [
    "import pandas as pd\n",
    "from datetime import datetime\n",
    "import yfinance as yf\n",
    "\n",
    "# Initialize parameters\n",
    "start_date = datetime(2020, 1, 1)\n",
    "end_date = datetime.now()  # This will use the current date and time\n",
    "\n",
    "data = yf.download('NVDA', start=start_date, end=end_date)\n",
    "data.reset_index(inplace=True)\n",
    "\n",
    "data"
   ]
  },
  {
   "cell_type": "markdown",
   "id": "71da8823-7ccb-4888-931f-156de13a9ca3",
   "metadata": {},
   "source": [
    "## 2.2 Format Dataset"
   ]
  },
  {
   "cell_type": "code",
   "execution_count": 16,
   "id": "301fdcd6-059c-46d3-884b-4becb25e4694",
   "metadata": {},
   "outputs": [
    {
     "data": {
      "text/html": [
       "<div>\n",
       "<style scoped>\n",
       "    .dataframe tbody tr th:only-of-type {\n",
       "        vertical-align: middle;\n",
       "    }\n",
       "\n",
       "    .dataframe tbody tr th {\n",
       "        vertical-align: top;\n",
       "    }\n",
       "\n",
       "    .dataframe thead th {\n",
       "        text-align: right;\n",
       "    }\n",
       "</style>\n",
       "<table border=\"1\" class=\"dataframe\">\n",
       "  <thead>\n",
       "    <tr style=\"text-align: right;\">\n",
       "      <th></th>\n",
       "      <th>Target</th>\n",
       "      <th>Open</th>\n",
       "      <th>High</th>\n",
       "      <th>Low</th>\n",
       "      <th>Close</th>\n",
       "      <th>Volume</th>\n",
       "    </tr>\n",
       "  </thead>\n",
       "  <tbody>\n",
       "    <tr>\n",
       "      <th>0</th>\n",
       "      <td>5.877500</td>\n",
       "      <td>5.968750</td>\n",
       "      <td>5.997750</td>\n",
       "      <td>5.918000</td>\n",
       "      <td>5.997750</td>\n",
       "      <td>237536000</td>\n",
       "    </tr>\n",
       "    <tr>\n",
       "      <th>1</th>\n",
       "      <td>5.808000</td>\n",
       "      <td>5.877500</td>\n",
       "      <td>5.945750</td>\n",
       "      <td>5.852500</td>\n",
       "      <td>5.901750</td>\n",
       "      <td>205384000</td>\n",
       "    </tr>\n",
       "    <tr>\n",
       "      <th>2</th>\n",
       "      <td>5.955000</td>\n",
       "      <td>5.808000</td>\n",
       "      <td>5.931750</td>\n",
       "      <td>5.781750</td>\n",
       "      <td>5.926500</td>\n",
       "      <td>262636000</td>\n",
       "    </tr>\n",
       "    <tr>\n",
       "      <th>3</th>\n",
       "      <td>5.994000</td>\n",
       "      <td>5.955000</td>\n",
       "      <td>6.044250</td>\n",
       "      <td>5.909750</td>\n",
       "      <td>5.998250</td>\n",
       "      <td>314856000</td>\n",
       "    </tr>\n",
       "    <tr>\n",
       "      <th>4</th>\n",
       "      <td>6.096250</td>\n",
       "      <td>5.994000</td>\n",
       "      <td>6.051000</td>\n",
       "      <td>5.953750</td>\n",
       "      <td>6.009500</td>\n",
       "      <td>277108000</td>\n",
       "    </tr>\n",
       "    <tr>\n",
       "      <th>...</th>\n",
       "      <td>...</td>\n",
       "      <td>...</td>\n",
       "      <td>...</td>\n",
       "      <td>...</td>\n",
       "      <td>...</td>\n",
       "      <td>...</td>\n",
       "    </tr>\n",
       "    <tr>\n",
       "      <th>1118</th>\n",
       "      <td>129.389999</td>\n",
       "      <td>123.059998</td>\n",
       "      <td>126.879997</td>\n",
       "      <td>122.570000</td>\n",
       "      <td>125.199997</td>\n",
       "      <td>299595000</td>\n",
       "    </tr>\n",
       "    <tr>\n",
       "      <th>1119</th>\n",
       "      <td>129.960007</td>\n",
       "      <td>129.389999</td>\n",
       "      <td>129.800003</td>\n",
       "      <td>127.160004</td>\n",
       "      <td>129.610001</td>\n",
       "      <td>260704500</td>\n",
       "    </tr>\n",
       "    <tr>\n",
       "      <th>1120</th>\n",
       "      <td>132.990005</td>\n",
       "      <td>129.960007</td>\n",
       "      <td>132.839996</td>\n",
       "      <td>128.320007</td>\n",
       "      <td>131.880005</td>\n",
       "      <td>309320400</td>\n",
       "    </tr>\n",
       "    <tr>\n",
       "      <th>1121</th>\n",
       "      <td>131.139999</td>\n",
       "      <td>132.990005</td>\n",
       "      <td>133.729996</td>\n",
       "      <td>129.580002</td>\n",
       "      <td>130.979996</td>\n",
       "      <td>288504400</td>\n",
       "    </tr>\n",
       "    <tr>\n",
       "      <th>1122</th>\n",
       "      <td>139.850006</td>\n",
       "      <td>131.139999</td>\n",
       "      <td>136.330002</td>\n",
       "      <td>130.690002</td>\n",
       "      <td>135.580002</td>\n",
       "      <td>294335100</td>\n",
       "    </tr>\n",
       "  </tbody>\n",
       "</table>\n",
       "<p>1123 rows × 6 columns</p>\n",
       "</div>"
      ],
      "text/plain": [
       "          Target        Open        High         Low       Close     Volume\n",
       "0       5.877500    5.968750    5.997750    5.918000    5.997750  237536000\n",
       "1       5.808000    5.877500    5.945750    5.852500    5.901750  205384000\n",
       "2       5.955000    5.808000    5.931750    5.781750    5.926500  262636000\n",
       "3       5.994000    5.955000    6.044250    5.909750    5.998250  314856000\n",
       "4       6.096250    5.994000    6.051000    5.953750    6.009500  277108000\n",
       "...          ...         ...         ...         ...         ...        ...\n",
       "1118  129.389999  123.059998  126.879997  122.570000  125.199997  299595000\n",
       "1119  129.960007  129.389999  129.800003  127.160004  129.610001  260704500\n",
       "1120  132.990005  129.960007  132.839996  128.320007  131.880005  309320400\n",
       "1121  131.139999  132.990005  133.729996  129.580002  130.979996  288504400\n",
       "1122  139.850006  131.139999  136.330002  130.690002  135.580002  294335100\n",
       "\n",
       "[1123 rows x 6 columns]"
      ]
     },
     "execution_count": 16,
     "metadata": {},
     "output_type": "execute_result"
    }
   ],
   "source": [
    "# Drop unwanted columns if they exist\n",
    "if 'Adj Close' in data.columns:\n",
    "    data.drop(columns=['Adj Close'], inplace=True)\n",
    "if 'Date' in data.columns:\n",
    "    data.drop(columns=['Date'], inplace=True)\n",
    "\n",
    "# Set the 'Open' price of the next day as the target price\n",
    "data['Target'] = data['Open'].shift(-1)\n",
    "\n",
    "# Drop the last row as it will have NaN for 'Target'\n",
    "data.dropna(inplace=True)\n",
    "\n",
    "# Ensure 'Target' is the first column\n",
    "column_order = ['Target'] + [col for col in data.columns if col != 'Target']\n",
    "data_final = data[column_order]\n",
    "\n",
    "data_final"
   ]
  },
  {
   "cell_type": "markdown",
   "id": "90987d32-2477-4933-a149-6ec9d2db4f91",
   "metadata": {},
   "source": [
    "## 2.3 Spilt Train Test Data"
   ]
  },
  {
   "cell_type": "code",
   "execution_count": 18,
   "id": "e5210e3c-7e16-4418-9760-e32f8be88771",
   "metadata": {},
   "outputs": [
    {
     "name": "stdout",
     "output_type": "stream",
     "text": [
      "(786, 6) (337, 6)\n"
     ]
    }
   ],
   "source": [
    "import numpy as np\n",
    "\n",
    "data_randomized = data_final.sample(frac=1, random_state=123)\n",
    "\n",
    "# Split data into training and testing sets\n",
    "train_data, test_data = np.split(data_randomized, [int(0.7 * len(data_randomized))])\n",
    "\n",
    "# Print the shapes of the datasets\n",
    "print(train_data.shape, test_data.shape)"
   ]
  },
  {
   "cell_type": "markdown",
   "id": "c9d6ffeb-674e-456a-afe9-dbbafa83249a",
   "metadata": {},
   "source": [
    "## 2.4 Upload to S3 Bucket"
   ]
  },
  {
   "cell_type": "code",
   "execution_count": 20,
   "id": "791fd25b-36f1-47bf-b958-c323f9736070",
   "metadata": {},
   "outputs": [
    {
     "name": "stdout",
     "output_type": "stream",
     "text": [
      "Files have been uploaded to S3\n"
     ]
    }
   ],
   "source": [
    "# Local paths\n",
    "train_csv_local_path = '/tmp/train.csv'\n",
    "test_csv_local_path = '/tmp/test.csv'\n",
    "\n",
    "# Save locally\n",
    "train_data.to_csv(train_csv_local_path, index=False, header=False)\n",
    "test_data.to_csv(test_csv_local_path, index=False, header=False)\n",
    "\n",
    "prefix = 'xgboost-as-a-built-in-algo'\n",
    "\n",
    "train_csv_s3_path = '{}/{}/train.csv'.format(prefix, 'train')\n",
    "test_csv_s3_path = '{}/{}/test.csv'.format(prefix, 'test')\n",
    "\n",
    "# Upload to S3\n",
    "s3 = boto3.client('s3')\n",
    "\n",
    "try:\n",
    "    s3.upload_file(train_csv_local_path, bucket_name, train_csv_s3_path)\n",
    "    s3.upload_file(test_csv_local_path, bucket_name, test_csv_s3_path)\n",
    "    print('Files have been uploaded to S3')\n",
    "except Exception as e:\n",
    "    print('S3 upload error: ', e)\n"
   ]
  },
  {
   "cell_type": "markdown",
   "id": "81a3c6af-864e-4487-ba9e-9bc6cfc24bd2",
   "metadata": {},
   "source": [
    "# 3. [XGBoost](https://docs.aws.amazon.com/sagemaker/latest/dg/xgboost.html)"
   ]
  },
  {
   "cell_type": "markdown",
   "id": "37977638-486a-415c-8b12-07a411642014",
   "metadata": {},
   "source": [
    "## 3.1 XGBoost hyperparameters and image"
   ]
  },
  {
   "cell_type": "code",
   "execution_count": 22,
   "id": "078007b4-c409-4315-b769-8f5012e03b0b",
   "metadata": {},
   "outputs": [],
   "source": [
    "import sagemaker\n",
    "from sagemaker import image_uris\n",
    "from sagemaker.session import Session\n",
    "from sagemaker.inputs import TrainingInput"
   ]
  },
  {
   "cell_type": "code",
   "execution_count": 23,
   "id": "6d418daa-1380-49e6-9779-72b321423473",
   "metadata": {},
   "outputs": [
    {
     "name": "stdout",
     "output_type": "stream",
     "text": [
      "XGBoost Container URI:  683313688378.dkr.ecr.us-east-1.amazonaws.com/sagemaker-xgboost:1.7-1\n"
     ]
    },
    {
     "data": {
      "text/plain": [
       "<sagemaker.estimator.Estimator at 0x7f01fcade050>"
      ]
     },
     "metadata": {},
     "output_type": "display_data"
    }
   ],
   "source": [
    "# Initialize hyperparameters\n",
    "hyperparameters = {\n",
    "    \"max_depth\": \"5\",\n",
    "    \"eta\": \"0.2\",\n",
    "    \"gamma\": \"4\",\n",
    "    \"min_child_weight\": \"6\",\n",
    "    \"subsample\": \"0.7\",\n",
    "    \"objective\": \"reg:squarederror\",\n",
    "    \"num_round\": \"100\"\n",
    "}\n",
    "\n",
    "# S3 paths\n",
    "output_path = 's3://{}/{}/output'.format(bucket_name, prefix)\n",
    "\n",
    "# Look for the XGBoost image URI and build an XGBoost container\n",
    "xgboost_container = sagemaker.image_uris.retrieve(\"xgboost\", region, version=\"1.7-1\")\n",
    "\n",
    "# Print the retrieved image URI to verify correctness\n",
    "print(\"XGBoost Container URI: \", xgboost_container)\n",
    "\n",
    "# Construct a SageMaker estimator that calls the xgboost-container\n",
    "estimator = sagemaker.estimator.Estimator(image_uri=xgboost_container,\n",
    "                                          hyperparameters=hyperparameters,\n",
    "                                          role=sagemaker.get_execution_role(),\n",
    "                                          instance_count=1,\n",
    "                                          instance_type='ml.m4.xlarge',\n",
    "                                          volume_size=5,  # 5 GB\n",
    "                                          output_path=output_path,\n",
    "                                          use_spot_instances=True,\n",
    "                                          max_run=300,\n",
    "                                          max_wait=600)"
   ]
  },
  {
   "cell_type": "markdown",
   "id": "a8158236-f303-4c9d-934e-f7baef10815f",
   "metadata": {},
   "source": [
    "## 3.2 Execute the XGBoost training Job"
   ]
  },
  {
   "cell_type": "code",
   "execution_count": 24,
   "id": "2a11f05f-7df2-4aec-9863-54ab95cea9fa",
   "metadata": {},
   "outputs": [
    {
     "name": "stderr",
     "output_type": "stream",
     "text": [
      "INFO:sagemaker:Creating training-job with name: sagemaker-xgboost-2024-06-20-21-13-13-708\n"
     ]
    },
    {
     "name": "stdout",
     "output_type": "stream",
     "text": [
      "2024-06-20 21:13:13 Starting - Starting the training job...\n",
      "2024-06-20 21:13:32 Starting - Preparing the instances for training...\n",
      "2024-06-20 21:14:06 Downloading - Downloading input data...\n",
      "2024-06-20 21:14:41 Downloading - Downloading the training image......\n",
      "2024-06-20 21:15:32 Training - Training image download completed. Training in progress...\u001b[34m[2024-06-20 21:15:53.339 ip-10-2-250-139.ec2.internal:7 INFO utils.py:28] RULE_JOB_STOP_SIGNAL_FILENAME: None\u001b[0m\n",
      "\u001b[34m[2024-06-20 21:15:53.367 ip-10-2-250-139.ec2.internal:7 INFO profiler_config_parser.py:111] User has disabled profiler.\u001b[0m\n",
      "\u001b[34m[2024-06-20:21:15:53:INFO] Imported framework sagemaker_xgboost_container.training\u001b[0m\n",
      "\u001b[34m[2024-06-20:21:15:53:INFO] Failed to parse hyperparameter objective value reg:squarederror to Json.\u001b[0m\n",
      "\u001b[34mReturning the value itself\u001b[0m\n",
      "\u001b[34m[2024-06-20:21:15:53:INFO] No GPUs detected (normal if no gpus installed)\u001b[0m\n",
      "\u001b[34m[2024-06-20:21:15:53:INFO] Running XGBoost Sagemaker in algorithm mode\u001b[0m\n",
      "\u001b[34m[2024-06-20:21:15:53:INFO] Determined 0 GPU(s) available on the instance.\u001b[0m\n",
      "\u001b[34m[2024-06-20:21:15:53:INFO] Determined delimiter of CSV input is ','\u001b[0m\n",
      "\u001b[34m[2024-06-20:21:15:53:INFO] Determined delimiter of CSV input is ','\u001b[0m\n",
      "\u001b[34m[2024-06-20:21:15:53:INFO] File path /opt/ml/input/data/train of input files\u001b[0m\n",
      "\u001b[34m[2024-06-20:21:15:53:INFO] Making smlinks from folder /opt/ml/input/data/train to folder /tmp/sagemaker_xgboost_input_data\u001b[0m\n",
      "\u001b[34m[2024-06-20:21:15:53:INFO] creating symlink between Path /opt/ml/input/data/train/train.csv and destination /tmp/sagemaker_xgboost_input_data/train.csv9155253296578833493\u001b[0m\n",
      "\u001b[34m[2024-06-20:21:15:53:INFO] files path: /tmp/sagemaker_xgboost_input_data\u001b[0m\n",
      "\u001b[34m[2024-06-20:21:15:53:INFO] Determined delimiter of CSV input is ','\u001b[0m\n",
      "\u001b[34m[2024-06-20:21:15:53:INFO] File path /opt/ml/input/data/validation of input files\u001b[0m\n",
      "\u001b[34m[2024-06-20:21:15:53:INFO] Making smlinks from folder /opt/ml/input/data/validation to folder /tmp/sagemaker_xgboost_input_data\u001b[0m\n",
      "\u001b[34m[2024-06-20:21:15:53:INFO] creating symlink between Path /opt/ml/input/data/validation/test.csv and destination /tmp/sagemaker_xgboost_input_data/test.csv-193425693360910957\u001b[0m\n",
      "\u001b[34m[2024-06-20:21:15:53:INFO] files path: /tmp/sagemaker_xgboost_input_data\u001b[0m\n",
      "\u001b[34m[2024-06-20:21:15:53:INFO] Determined delimiter of CSV input is ','\u001b[0m\n",
      "\u001b[34m[2024-06-20:21:15:53:INFO] Single node training.\u001b[0m\n",
      "\u001b[34m[2024-06-20:21:15:53:INFO] Train matrix has 786 rows and 5 columns\u001b[0m\n",
      "\u001b[34m[2024-06-20:21:15:53:INFO] Validation matrix has 337 rows\u001b[0m\n",
      "\u001b[34m[2024-06-20 21:15:53.813 ip-10-2-250-139.ec2.internal:7 INFO json_config.py:92] Creating hook from json_config at /opt/ml/input/config/debughookconfig.json.\u001b[0m\n",
      "\u001b[34m[2024-06-20 21:15:53.814 ip-10-2-250-139.ec2.internal:7 INFO hook.py:206] tensorboard_dir has not been set for the hook. SMDebug will not be exporting tensorboard summaries.\u001b[0m\n",
      "\u001b[34m[2024-06-20 21:15:53.814 ip-10-2-250-139.ec2.internal:7 INFO hook.py:259] Saving to /opt/ml/output/tensors\u001b[0m\n",
      "\u001b[34m[2024-06-20 21:15:53.814 ip-10-2-250-139.ec2.internal:7 INFO state_store.py:77] The checkpoint config file /opt/ml/input/config/checkpointconfig.json does not exist.\u001b[0m\n",
      "\u001b[34m[2024-06-20:21:15:53:INFO] Debug hook created from config\u001b[0m\n",
      "\u001b[34m[2024-06-20 21:15:53.818 ip-10-2-250-139.ec2.internal:7 INFO hook.py:427] Monitoring the collections: metrics\u001b[0m\n",
      "\u001b[34m[2024-06-20 21:15:53.821 ip-10-2-250-139.ec2.internal:7 INFO hook.py:491] Hook is writing from the hook with pid: 7\u001b[0m\n",
      "\u001b[34m[0]#011train-rmse:29.41110#011validation-rmse:28.25481\u001b[0m\n",
      "\u001b[34m[1]#011train-rmse:23.86263#011validation-rmse:23.02267\u001b[0m\n",
      "\u001b[34m[2]#011train-rmse:19.30174#011validation-rmse:18.77153\u001b[0m\n",
      "\u001b[34m[3]#011train-rmse:15.62227#011validation-rmse:15.35364\u001b[0m\n",
      "\u001b[34m[4]#011train-rmse:12.67763#011validation-rmse:12.58004\u001b[0m\n",
      "\u001b[34m[5]#011train-rmse:10.34522#011validation-rmse:10.42901\u001b[0m\n",
      "\u001b[34m[6]#011train-rmse:8.40000#011validation-rmse:8.60988\u001b[0m\n",
      "\u001b[34m[7]#011train-rmse:6.80653#011validation-rmse:7.12954\u001b[0m\n",
      "\u001b[34m[8]#011train-rmse:5.53801#011validation-rmse:5.94578\u001b[0m\n",
      "\u001b[34m[9]#011train-rmse:4.51316#011validation-rmse:5.00580\u001b[0m\n",
      "\u001b[34m[10]#011train-rmse:3.70087#011validation-rmse:4.24678\u001b[0m\n",
      "\u001b[34m[11]#011train-rmse:3.03864#011validation-rmse:3.62211\u001b[0m\n",
      "\u001b[34m[12]#011train-rmse:2.51805#011validation-rmse:3.16296\u001b[0m\n",
      "\u001b[34m[13]#011train-rmse:2.10824#011validation-rmse:2.78892\u001b[0m\n",
      "\u001b[34m[14]#011train-rmse:1.76812#011validation-rmse:2.46545\u001b[0m\n",
      "\u001b[34m[15]#011train-rmse:1.51772#011validation-rmse:2.26694\u001b[0m\n",
      "\u001b[34m[16]#011train-rmse:1.33214#011validation-rmse:2.12548\u001b[0m\n",
      "\u001b[34m[17]#011train-rmse:1.17625#011validation-rmse:1.99156\u001b[0m\n",
      "\u001b[34m[18]#011train-rmse:1.05256#011validation-rmse:1.88162\u001b[0m\n",
      "\u001b[34m[19]#011train-rmse:0.94913#011validation-rmse:1.76600\u001b[0m\n",
      "\u001b[34m[20]#011train-rmse:0.88011#011validation-rmse:1.69814\u001b[0m\n",
      "\u001b[34m[21]#011train-rmse:0.82171#011validation-rmse:1.62332\u001b[0m\n",
      "\u001b[34m[22]#011train-rmse:0.78009#011validation-rmse:1.57487\u001b[0m\n",
      "\u001b[34m[23]#011train-rmse:0.75364#011validation-rmse:1.53529\u001b[0m\n",
      "\u001b[34m[24]#011train-rmse:0.72613#011validation-rmse:1.50768\u001b[0m\n",
      "\u001b[34m[25]#011train-rmse:0.70820#011validation-rmse:1.49083\u001b[0m\n",
      "\u001b[34m[26]#011train-rmse:0.69142#011validation-rmse:1.45983\u001b[0m\n",
      "\u001b[34m[27]#011train-rmse:0.68969#011validation-rmse:1.46771\u001b[0m\n",
      "\u001b[34m[28]#011train-rmse:0.67907#011validation-rmse:1.44242\u001b[0m\n",
      "\u001b[34m[29]#011train-rmse:0.67816#011validation-rmse:1.44139\u001b[0m\n",
      "\u001b[34m[30]#011train-rmse:0.67049#011validation-rmse:1.42384\u001b[0m\n",
      "\u001b[34m[31]#011train-rmse:0.66457#011validation-rmse:1.40511\u001b[0m\n",
      "\u001b[34m[32]#011train-rmse:0.64917#011validation-rmse:1.38504\u001b[0m\n",
      "\u001b[34m[33]#011train-rmse:0.64912#011validation-rmse:1.38493\u001b[0m\n",
      "\u001b[34m[34]#011train-rmse:0.64387#011validation-rmse:1.38307\u001b[0m\n",
      "\u001b[34m[35]#011train-rmse:0.64271#011validation-rmse:1.37208\u001b[0m\n",
      "\u001b[34m[36]#011train-rmse:0.63949#011validation-rmse:1.36448\u001b[0m\n",
      "\u001b[34m[37]#011train-rmse:0.63616#011validation-rmse:1.35604\u001b[0m\n",
      "\u001b[34m[38]#011train-rmse:0.63340#011validation-rmse:1.36149\u001b[0m\n",
      "\u001b[34m[39]#011train-rmse:0.61628#011validation-rmse:1.35379\u001b[0m\n",
      "\u001b[34m[40]#011train-rmse:0.61601#011validation-rmse:1.34226\u001b[0m\n",
      "\u001b[34m[41]#011train-rmse:0.60640#011validation-rmse:1.33591\u001b[0m\n",
      "\u001b[34m[42]#011train-rmse:0.60391#011validation-rmse:1.32572\u001b[0m\n",
      "\u001b[34m[43]#011train-rmse:0.59435#011validation-rmse:1.32354\u001b[0m\n",
      "\u001b[34m[44]#011train-rmse:0.59434#011validation-rmse:1.32342\u001b[0m\n",
      "\u001b[34m[45]#011train-rmse:0.59434#011validation-rmse:1.32315\u001b[0m\n",
      "\u001b[34m[46]#011train-rmse:0.59322#011validation-rmse:1.33239\u001b[0m\n",
      "\u001b[34m[47]#011train-rmse:0.59322#011validation-rmse:1.33237\u001b[0m\n",
      "\u001b[34m[48]#011train-rmse:0.58657#011validation-rmse:1.33066\u001b[0m\n",
      "\u001b[34m[49]#011train-rmse:0.58661#011validation-rmse:1.33090\u001b[0m\n",
      "\u001b[34m[50]#011train-rmse:0.58307#011validation-rmse:1.32326\u001b[0m\n",
      "\u001b[34m[51]#011train-rmse:0.58306#011validation-rmse:1.32319\u001b[0m\n",
      "\u001b[34m[52]#011train-rmse:0.58218#011validation-rmse:1.30983\u001b[0m\n",
      "\u001b[34m[53]#011train-rmse:0.58094#011validation-rmse:1.29282\u001b[0m\n",
      "\u001b[34m[54]#011train-rmse:0.58094#011validation-rmse:1.29274\u001b[0m\n",
      "\u001b[34m[55]#011train-rmse:0.58095#011validation-rmse:1.29260\u001b[0m\n",
      "\u001b[34m[56]#011train-rmse:0.57952#011validation-rmse:1.30239\u001b[0m\n",
      "\u001b[34m[57]#011train-rmse:0.57952#011validation-rmse:1.30257\u001b[0m\n",
      "\u001b[34m[58]#011train-rmse:0.57779#011validation-rmse:1.29379\u001b[0m\n",
      "\u001b[34m[59]#011train-rmse:0.57779#011validation-rmse:1.29384\u001b[0m\n",
      "\u001b[34m[60]#011train-rmse:0.57779#011validation-rmse:1.29373\u001b[0m\n",
      "\u001b[34m[61]#011train-rmse:0.57779#011validation-rmse:1.29377\u001b[0m\n",
      "\u001b[34m[62]#011train-rmse:0.57779#011validation-rmse:1.29389\u001b[0m\n",
      "\u001b[34m[63]#011train-rmse:0.57780#011validation-rmse:1.29396\u001b[0m\n",
      "\u001b[34m[64]#011train-rmse:0.57369#011validation-rmse:1.29090\u001b[0m\n",
      "\u001b[34m[65]#011train-rmse:0.57371#011validation-rmse:1.29075\u001b[0m\n",
      "\u001b[34m[66]#011train-rmse:0.57370#011validation-rmse:1.29079\u001b[0m\n",
      "\u001b[34m[67]#011train-rmse:0.57103#011validation-rmse:1.29662\u001b[0m\n",
      "\u001b[34m[68]#011train-rmse:0.56870#011validation-rmse:1.29385\u001b[0m\n",
      "\u001b[34m[69]#011train-rmse:0.56432#011validation-rmse:1.28412\u001b[0m\n",
      "\u001b[34m[70]#011train-rmse:0.56433#011validation-rmse:1.28414\u001b[0m\n",
      "\u001b[34m[71]#011train-rmse:0.55938#011validation-rmse:1.27968\u001b[0m\n",
      "\u001b[34m[72]#011train-rmse:0.55941#011validation-rmse:1.27999\u001b[0m\n",
      "\u001b[34m[73]#011train-rmse:0.55807#011validation-rmse:1.29066\u001b[0m\n",
      "\u001b[34m[74]#011train-rmse:0.55545#011validation-rmse:1.29383\u001b[0m\n",
      "\u001b[34m[75]#011train-rmse:0.55545#011validation-rmse:1.29388\u001b[0m\n",
      "\u001b[34m[76]#011train-rmse:0.55547#011validation-rmse:1.29413\u001b[0m\n",
      "\u001b[34m[77]#011train-rmse:0.55302#011validation-rmse:1.30021\u001b[0m\n",
      "\u001b[34m[78]#011train-rmse:0.55301#011validation-rmse:1.29997\u001b[0m\n",
      "\u001b[34m[79]#011train-rmse:0.55301#011validation-rmse:1.30009\u001b[0m\n",
      "\u001b[34m[80]#011train-rmse:0.55301#011validation-rmse:1.29998\u001b[0m\n",
      "\u001b[34m[81]#011train-rmse:0.55026#011validation-rmse:1.30368\u001b[0m\n",
      "\u001b[34m[82]#011train-rmse:0.55058#011validation-rmse:1.31397\u001b[0m\n",
      "\u001b[34m[83]#011train-rmse:0.55057#011validation-rmse:1.31384\u001b[0m\n",
      "\u001b[34m[84]#011train-rmse:0.55058#011validation-rmse:1.31359\u001b[0m\n",
      "\u001b[34m[85]#011train-rmse:0.55057#011validation-rmse:1.31388\u001b[0m\n",
      "\u001b[34m[86]#011train-rmse:0.54697#011validation-rmse:1.31559\u001b[0m\n",
      "\u001b[34m[87]#011train-rmse:0.54688#011validation-rmse:1.30650\u001b[0m\n",
      "\u001b[34m[88]#011train-rmse:0.54674#011validation-rmse:1.30426\u001b[0m\n",
      "\u001b[34m[89]#011train-rmse:0.54539#011validation-rmse:1.30076\u001b[0m\n",
      "\u001b[34m[90]#011train-rmse:0.54540#011validation-rmse:1.30054\u001b[0m\n",
      "\u001b[34m[91]#011train-rmse:0.54540#011validation-rmse:1.30053\u001b[0m\n",
      "\u001b[34m[92]#011train-rmse:0.54540#011validation-rmse:1.30050\u001b[0m\n",
      "\u001b[34m[93]#011train-rmse:0.54539#011validation-rmse:1.30060\u001b[0m\n",
      "\u001b[34m[94]#011train-rmse:0.54539#011validation-rmse:1.30062\u001b[0m\n",
      "\u001b[34m[95]#011train-rmse:0.54139#011validation-rmse:1.29536\u001b[0m\n",
      "\u001b[34m[96]#011train-rmse:0.54185#011validation-rmse:1.30811\u001b[0m\n",
      "\u001b[34m[97]#011train-rmse:0.54183#011validation-rmse:1.30787\u001b[0m\n",
      "\u001b[34m[98]#011train-rmse:0.54184#011validation-rmse:1.30779\u001b[0m\n",
      "\u001b[34m[99]#011train-rmse:0.54183#011validation-rmse:1.30792\u001b[0m\n",
      "\n",
      "2024-06-20 21:16:10 Uploading - Uploading generated training model\n",
      "2024-06-20 21:16:10 Completed - Training job completed\n",
      "Training seconds: 124\n",
      "Billable seconds: 59\n",
      "Managed Spot Training savings: 52.4%\n"
     ]
    }
   ],
   "source": [
    "# Define the data type and paths to the training and validation datasets\n",
    "content_type = \"csv\"\n",
    "train_input = TrainingInput(\"s3://{}/{}/{}/\".format(bucket_name, prefix, 'train'), content_type=content_type)\n",
    "test_input = TrainingInput(\"s3://{}/{}/{}/\".format(bucket_name, prefix, 'test'), content_type=content_type)\n",
    "\n",
    "# Execute the XGBoost training job\n",
    "estimator.fit({'train': train_input, 'validation': test_input})"
   ]
  },
  {
   "cell_type": "markdown",
   "id": "1abb7492-07b5-4359-945f-2ca123b7df81",
   "metadata": {},
   "source": [
    "## 3.3 Deploy trained xgb model as Endpoints"
   ]
  },
  {
   "cell_type": "code",
   "execution_count": 31,
   "id": "9bb84116-fc8b-4304-a354-9d72c9ff4e1a",
   "metadata": {},
   "outputs": [
    {
     "name": "stderr",
     "output_type": "stream",
     "text": [
      "INFO:sagemaker:Creating model with name: sagemaker-xgboost-2024-06-20-21-43-49-375\n"
     ]
    },
    {
     "name": "stdout",
     "output_type": "stream",
     "text": [
      "start\n"
     ]
    },
    {
     "name": "stderr",
     "output_type": "stream",
     "text": [
      "INFO:sagemaker:Creating endpoint-config with name sagemaker-xgboost-2024-06-20-21-43-49-375\n",
      "INFO:sagemaker:Creating endpoint with name sagemaker-xgboost-2024-06-20-21-43-49-375\n"
     ]
    },
    {
     "name": "stdout",
     "output_type": "stream",
     "text": [
      "-------!Model deployed successfully!\n"
     ]
    }
   ],
   "source": [
    "from sagemaker.serializers import CSVSerializer\n",
    "\n",
    "print(\"start\")\n",
    "xgb_predictor = estimator.deploy(\n",
    "    initial_instance_count=1,\n",
    "    instance_type='ml.m4.xlarge',\n",
    "    serializer=CSVSerializer()\n",
    ")\n",
    "\n",
    "print(\"Model deployed successfully!\")"
   ]
  },
  {
   "cell_type": "code",
   "execution_count": 32,
   "id": "7856d17b-c11b-4505-9d82-eaaed770cd5b",
   "metadata": {},
   "outputs": [
    {
     "data": {
      "text/plain": [
       "'sagemaker-xgboost-2024-06-20-21-43-49-375'"
      ]
     },
     "execution_count": 32,
     "metadata": {},
     "output_type": "execute_result"
    }
   ],
   "source": [
    "xgb_predictor.endpoint_name"
   ]
  },
  {
   "cell_type": "markdown",
   "id": "6599ad8a-d7aa-4a22-8ed8-dc9a24515464",
   "metadata": {},
   "source": [
    "# 3.4 Make predictions using Endpoints"
   ]
  },
  {
   "cell_type": "code",
   "execution_count": 48,
   "id": "be9bc101-181a-4160-b376-0fd118953b5c",
   "metadata": {},
   "outputs": [
    {
     "name": "stderr",
     "output_type": "stream",
     "text": [
      "[*********************100%%**********************]  1 of 1 completed\n"
     ]
    },
    {
     "data": {
      "text/plain": [
       "array([[1.39850006e+02, 1.40759995e+02, 1.29529999e+02, 1.30779999e+02,\n",
       "        5.04887012e+08]])"
      ]
     },
     "execution_count": 48,
     "metadata": {},
     "output_type": "execute_result"
    }
   ],
   "source": [
    "start_date_pred = datetime(2024, 6, 19)\n",
    "end_date_pred = datetime.now()\n",
    "\n",
    "\n",
    "df_data = yf.download('NVDA', start=start_date_pred, end=end_date_pred)\n",
    "df_data.reset_index(inplace=True)\n",
    "\n",
    "# Drop unwanted columns if they exist\n",
    "if 'Adj Close' in data.columns:\n",
    "    df_data.drop(columns=['Adj Close'], inplace=True)\n",
    "if 'Date' in data.columns:\n",
    "    df_data.drop(columns=['Date'], inplace=True)\n",
    "\n",
    "df_data_arrays = df_data.values\n",
    "df_data_arrays"
   ]
  },
  {
   "cell_type": "markdown",
   "id": "6d816ddb-b90e-45cd-ab1d-a61d6f32513b",
   "metadata": {},
   "source": [
    "# 3.5 Serialize the Data"
   ]
  },
  {
   "cell_type": "code",
   "execution_count": 49,
   "id": "28d3eabf-ba10-4b0d-97e0-3d287e982a30",
   "metadata": {},
   "outputs": [
    {
     "name": "stdout",
     "output_type": "stream",
     "text": [
      "122.11325073242188\n",
      "\n"
     ]
    }
   ],
   "source": [
    "Y_pred_function = xgb_predictor.predict(df_data_arrays).decode('utf-8')\n",
    "print(Y_pred_function)"
   ]
  },
  {
   "cell_type": "markdown",
   "id": "80d4706b-4573-4e18-93fb-d2022f54fa02",
   "metadata": {},
   "source": [
    "# 4. Lambda function handler"
   ]
  },
  {
   "cell_type": "code",
   "execution_count": 53,
   "id": "78731ea8-2999-4dd4-92d7-f09d80efe3eb",
   "metadata": {},
   "outputs": [
    {
     "data": {
      "text/plain": [
       "'5.761270046234131\\n'"
      ]
     },
     "execution_count": 53,
     "metadata": {},
     "output_type": "execute_result"
    }
   ],
   "source": [
    "ENDPOINT_NAME = xgb_predictor.endpoint_name\n",
    "runtime = boto3.client('runtime.sagemaker')\n",
    "\n",
    "def lambda_handler(event, context):\n",
    "    inputs = event['data']\n",
    "\n",
    "    serialized_input = ','.join(map(str, inputs[0]))\n",
    "\n",
    "    response = runtime.invoke_endpoint(EndpointName=ENDPOINT_NAME, \n",
    "                                       ContentType='text/csv', \n",
    "                                       Body=serialized_input)\n",
    "\n",
    "    result = response['Body'].read().decode()\n",
    "    \n",
    "    return result\n",
    "\n",
    "Input_json = {'data':\n",
    "              [[1,2,3,4,5], [213,2144321,3412324,3241,2134]]\n",
    "             }\n",
    "\n",
    "result = lambda_handler(Input_json, _)\n",
    "\n",
    "result"
   ]
  },
  {
   "cell_type": "markdown",
   "id": "e33dda2e-a984-422d-9e0c-75c62d6cf0ed",
   "metadata": {},
   "source": [
    "# 5. Send Result via Email"
   ]
  },
  {
   "cell_type": "code",
   "execution_count": null,
   "id": "b41f4bcd-4bae-472d-ac30-f7769a6a9266",
   "metadata": {},
   "outputs": [],
   "source": []
  },
  {
   "cell_type": "code",
   "execution_count": null,
   "id": "972759b1-a675-4215-baf3-7bbf53c75a76",
   "metadata": {},
   "outputs": [],
   "source": []
  }
 ],
 "metadata": {
  "kernelspec": {
   "display_name": "Python 3 (ipykernel)",
   "language": "python",
   "name": "python3"
  },
  "language_info": {
   "codemirror_mode": {
    "name": "ipython",
    "version": 3
   },
   "file_extension": ".py",
   "mimetype": "text/x-python",
   "name": "python",
   "nbconvert_exporter": "python",
   "pygments_lexer": "ipython3",
   "version": "3.10.14"
  }
 },
 "nbformat": 4,
 "nbformat_minor": 5
}
